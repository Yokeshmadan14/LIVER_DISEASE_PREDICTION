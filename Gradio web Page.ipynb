{
 "cells": [
  {
   "cell_type": "code",
   "execution_count": 2,
   "id": "8372303a-478b-4919-baf5-2c9bade8103d",
   "metadata": {},
   "outputs": [
    {
     "name": "stdout",
     "output_type": "stream",
     "text": [
      "* Running on local URL:  http://127.0.0.1:7861\n",
      "\n",
      "To create a public link, set `share=True` in `launch()`.\n"
     ]
    },
    {
     "data": {
      "text/html": [
       "<div><iframe src=\"http://127.0.0.1:7861/\" width=\"100%\" height=\"500\" allow=\"autoplay; camera; microphone; clipboard-read; clipboard-write;\" frameborder=\"0\" allowfullscreen></iframe></div>"
      ],
      "text/plain": [
       "<IPython.core.display.HTML object>"
      ]
     },
     "metadata": {},
     "output_type": "display_data"
    },
    {
     "data": {
      "text/plain": []
     },
     "execution_count": 2,
     "metadata": {},
     "output_type": "execute_result"
    }
   ],
   "source": [
    "import gradio as gr\n",
    "import pandas as pd\n",
    "import numpy as np\n",
    "from sklearn.linear_model import LogisticRegression\n",
    "from sklearn.model_selection import train_test_split\n",
    "from sklearn.preprocessing import LabelEncoder, StandardScaler\n",
    "df = pd.read_csv(\"Liver Disease.csv\")\n",
    "df['Gender'] = LabelEncoder().fit_transform(df['Gender'])\n",
    "df = df.dropna()\n",
    "X = df.drop(['Dataset'], axis=1)\n",
    "y = df['Dataset']\n",
    "X_train, X_test, y_train, y_test = train_test_split(X, y, test_size=0.2, random_state=42)\n",
    "scaler = StandardScaler()\n",
    "X_train_scaled = scaler.fit_transform(X_train)\n",
    "X_test_scaled = scaler.transform(X_test)\n",
    "model = LogisticRegression(max_iter=1000)\n",
    "model.fit(X_train_scaled, y_train)\n",
    "def predict_liver_disease(age, gender, total_bilirubin, direct_bilirubin, alk_phos, alat, asat, total_protiens, albumin, agr):\n",
    "    gender_encoded = 1 if gender.lower() == \"male\" else 0\n",
    "    input_data = np.array([[age, gender_encoded, total_bilirubin, direct_bilirubin,\n",
    "                            alk_phos, alat, asat, total_protiens, albumin, agr]])\n",
    "    input_scaled = scaler.transform(input_data)\n",
    "    prediction = model.predict(input_scaled)[0]\n",
    "    return \"High Risk\" if prediction == 1 else \"Low Risk\"\n",
    "with gr.Blocks() as demo:\n",
    "    gr.Markdown(\"## 🩺 Liver Disease Risk Prediction (Logistic Regression)\")\n",
    "    gr.Markdown(\"Enter patient data below to predict if they are at **High Risk** or **Low Risk** for liver disease.\")\n",
    "    \n",
    "    with gr.Row():\n",
    "        with gr.Column():\n",
    "            age = gr.Number(label=\"Age (01 - 90)\")\n",
    "            gender = gr.Radio([\"Male\", \"Female\"], label=\"Gender\")\n",
    "            total_bilirubin = gr.Number(label=\"Total Bilirubin (0.1 - 75)\")\n",
    "            direct_bilirubin = gr.Number(label=\"Direct Bilirubin (0.1 - 19)\")\n",
    "            alk_phos = gr.Number(label=\"Alkaline Phosphotase (60 - 2110)\")\n",
    "            alat = gr.Number(label=\"Alamine Aminotransferase (4 - 2000)\")\n",
    "            asat = gr.Number(label=\"Aspartate Aminotransferase (4 - 5000)\")\n",
    "            total_protiens = gr.Number(label=\"Total Proteins (4.5 - 9.0)\")\n",
    "            albumin = gr.Number(label=\"Albumin (2.0 - 5.5)\")\n",
    "            agr = gr.Number(label=\"Albumin and Globulin Ratio (0.5 - 2.5)\")\n",
    "            submit_btn = gr.Button(\"Predict\")\n",
    "        \n",
    "        with gr.Column():\n",
    "            result = gr.Textbox(label=\"Prediction\", lines=1)\n",
    "    \n",
    "    submit_btn.click(\n",
    "        fn=predict_liver_disease,\n",
    "        inputs=[age, gender, total_bilirubin, direct_bilirubin, alk_phos, alat, asat, total_protiens, albumin, agr],\n",
    "        outputs=result\n",
    "    )\n",
    "\n",
    "demo.launch()"
   ]
  },
  {
   "cell_type": "code",
   "execution_count": null,
   "id": "437d1aaf-8c66-4c39-9ac2-71452b06e17f",
   "metadata": {},
   "outputs": [],
   "source": []
  }
 ],
 "metadata": {
  "kernelspec": {
   "display_name": "Python [conda env:base] *",
   "language": "python",
   "name": "conda-base-py"
  },
  "language_info": {
   "codemirror_mode": {
    "name": "ipython",
    "version": 3
   },
   "file_extension": ".py",
   "mimetype": "text/x-python",
   "name": "python",
   "nbconvert_exporter": "python",
   "pygments_lexer": "ipython3",
   "version": "3.12.7"
  }
 },
 "nbformat": 4,
 "nbformat_minor": 5
}
